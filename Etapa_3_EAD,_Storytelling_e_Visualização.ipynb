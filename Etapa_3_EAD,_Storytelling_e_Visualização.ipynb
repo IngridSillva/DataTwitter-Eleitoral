{
  "nbformat": 4,
  "nbformat_minor": 0,
  "metadata": {
    "colab": {
      "name": "Etapa 3 - EAD, Storytelling e Visualização.ipynb",
      "provenance": [],
      "authorship_tag": "ABX9TyNj0fgo/kaqc9iwIDRI5rOH",
      "include_colab_link": true
    },
    "kernelspec": {
      "name": "python3",
      "display_name": "Python 3"
    },
    "language_info": {
      "name": "python"
    }
  },
  "cells": [
    {
      "cell_type": "markdown",
      "metadata": {
        "id": "view-in-github",
        "colab_type": "text"
      },
      "source": [
        "<a href=\"https://colab.research.google.com/github/IngridSillva/DataTwitter-Eleitoral/blob/main/Etapa_3_EAD%2C_Storytelling_e_Visualiza%C3%A7%C3%A3o.ipynb\" target=\"_parent\"><img src=\"https://colab.research.google.com/assets/colab-badge.svg\" alt=\"Open In Colab\"/></a>"
      ]
    },
    {
      "cell_type": "code",
      "execution_count": null,
      "metadata": {
        "id": "xAoBERSJTFX_"
      },
      "outputs": [],
      "source": [
        ""
      ]
    }
  ]
}